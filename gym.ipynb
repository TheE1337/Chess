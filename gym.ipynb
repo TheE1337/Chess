{
 "cells": [
  {
   "cell_type": "code",
   "execution_count": 109,
   "metadata": {},
   "outputs": [],
   "source": [
    "import chess\n",
    "class chessEnv():\n",
    "    def init(self):\n",
    "        self.state = chess.Board()\n",
    "        self.counter = 0\n",
    "        self.done = 0\n",
    "        self.add = [0, 0]\n",
    "        reward = 0.0\n",
    "    def check(self, state):\n",
    "        if self.state.is_checkmate():\n",
    "            if self.state.turn:\n",
    "                return -1000\n",
    "            else:\n",
    "                return 1000\n",
    "        else:\n",
    "            pieces = 0\n",
    "        if self.state.is_check():\n",
    "            pieces += 2\n",
    "        for row in self.state.fen().split()[0].split('/'):\n",
    "            pieces += 9 * row.count('Q')\n",
    "            pieces -= 9 * row.count('q')\n",
    "            pieces += 5 * row.count('R')\n",
    "            pieces -= 5 * row.count('r')\n",
    "            pieces += 3 * row.count('K')\n",
    "            pieces -= 3 * row.count('k')\n",
    "            pieces += 3 * row.count('B')\n",
    "            pieces -= 3 * row.count('b')\n",
    "            pieces += 3 * row.count('N')\n",
    "            pieces -= 3 * row.count('n')\n",
    "            pieces += 1 * row.count('P')\n",
    "            pieces -= 1 * row.count('p')\n",
    "        return pieces\n",
    "\n",
    "    def step(self, action):\n",
    "        if self.state.is_checkmate():\n",
    "            done = True\n",
    "            reward = self.check(self.state)\n",
    "        else:\n",
    "            done = False\n",
    "            self.state.push_san(action)\n",
    "            reward = self.check(self.state)\n",
    "        return [self.state, reward, done]\n",
    "\n",
    "    def minimax(self, state, depth, a, b, maxplayer): #a: -1000, b: +1000 on initial call\n",
    "        bestmove = ''\n",
    "        if depth == 0 or state.is_checkmate():\n",
    "            return (self.check(self.state), bestmove)\n",
    "        if maxplayer:\n",
    "            value = -1000\n",
    "            for move in state.legal_moves:\n",
    "                tempboard = self.state\n",
    "                try:\n",
    "                    tempboard.push_san(str(move))\n",
    "                except:\n",
    "                    continue\n",
    "                tempvalue = 0\n",
    "                tempvalue = self.minimax(tempboard, a, b, depth-1, False)[0]\n",
    "                if tempvalue >= value:\n",
    "                    bestmove = move\n",
    "                value = max(value, tempvalue)\n",
    "                a = max(a, value)\n",
    "                if a >= b:\n",
    "                    break\n",
    "            return (value, str(bestmove))\n",
    "        else:\n",
    "            value = 1000\n",
    "            for move in self.state.legal_moves:\n",
    "                tempboard = self.state\n",
    "                try:\n",
    "                    tempboard.push_san(str(move))\n",
    "                except:\n",
    "                    continue\n",
    "                tempvalue = 0\n",
    "                tempvalue = self.minimax(tempboard, a, b, depth-1, True)[0]\n",
    "                if tempvalue <= value:\n",
    "                    bestmove = move\n",
    "                value = min(value, tempvalue)\n",
    "                b = min(b,value)\n",
    "                if a >= b:\n",
    "                    break\n",
    "            return (value, str(bestmove))\n",
    "\n",
    "\n",
    "\n",
    "    def reset(self):\n",
    "        self.state.reset()\n",
    "\n",
    "    def board(self):\n",
    "        return self.state\n",
    "\n"
   ]
  },
  {
   "cell_type": "code",
   "execution_count": 112,
   "metadata": {},
   "outputs": [
    {
     "data": {
      "text/plain": [
       "(-1, 'h2h3')"
      ]
     },
     "execution_count": 112,
     "metadata": {},
     "output_type": "execute_result"
    }
   ],
   "source": [
    "env = chessEnv()\n",
    "env.init()\n",
    "env.board()\n",
    "env.step('e4')\n",
    "env.reset()\n",
    "env.minimax(env.board(), 3, -2000, 2000, True)"
   ]
  },
  {
   "cell_type": "code",
   "execution_count": null,
   "metadata": {},
   "outputs": [],
   "source": [
    "env.reset()"
   ]
  },
  {
   "cell_type": "code",
   "execution_count": null,
   "metadata": {},
   "outputs": [],
   "source": []
  },
  {
   "cell_type": "code",
   "execution_count": 107,
   "metadata": {},
   "outputs": [
    {
     "name": "stdout",
     "output_type": "stream",
     "text": [
      "g1h3\n",
      "g1f3\n",
      "b1c3\n",
      "b1a3\n",
      "h2h3\n",
      "g2g3\n",
      "f2f3\n",
      "e2e3\n",
      "d2d3\n",
      "c2c3\n",
      "b2b3\n",
      "a2a3\n",
      "h2h4\n",
      "g2g4\n",
      "f2f4\n",
      "e2e4\n",
      "d2d4\n",
      "c2c4\n",
      "b2b4\n",
      "a2a4\n"
     ]
    }
   ],
   "source": [
    "for move in chess.Board().legal_moves:\n",
    "    print(str(move))\n"
   ]
  },
  {
   "cell_type": "code",
   "execution_count": 108,
   "metadata": {},
   "outputs": [
    {
     "data": {
      "text/plain": [
       "1"
      ]
     },
     "execution_count": 108,
     "metadata": {},
     "output_type": "execute_result"
    }
   ],
   "source": [
    "x = (1,'')[0]\n",
    "x"
   ]
  },
  {
   "cell_type": "code",
   "execution_count": null,
   "metadata": {},
   "outputs": [],
   "source": []
  }
 ],
 "metadata": {
  "kernelspec": {
   "display_name": "Python 3",
   "language": "python",
   "name": "python3"
  },
  "language_info": {
   "codemirror_mode": {
    "name": "ipython",
    "version": 3
   },
   "file_extension": ".py",
   "mimetype": "text/x-python",
   "name": "python",
   "nbconvert_exporter": "python",
   "pygments_lexer": "ipython3",
   "version": "3.7.3"
  }
 },
 "nbformat": 4,
 "nbformat_minor": 2
}
